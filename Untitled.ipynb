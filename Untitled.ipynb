{
 "cells": [
  {
   "cell_type": "code",
   "execution_count": 1,
   "metadata": {},
   "outputs": [],
   "source": [
    "import pandas as pd\n",
    "import pandas as pd\n",
    "import matplotlib.pyplot as plt\n",
    "import numpy as np\n",
    "from pivottablejs import pivot_ui\n",
    "import seaborn as sns"
   ]
  },
  {
   "cell_type": "code",
   "execution_count": 2,
   "metadata": {},
   "outputs": [],
   "source": [
    "data_file = \"injury_data.csv\"\n",
    "data_file_pd = pd.read_csv(data_file)\n"
   ]
  },
  {
   "cell_type": "code",
   "execution_count": 3,
   "metadata": {},
   "outputs": [
    {
     "data": {
      "text/html": [
       "<div>\n",
       "<style scoped>\n",
       "    .dataframe tbody tr th:only-of-type {\n",
       "        vertical-align: middle;\n",
       "    }\n",
       "\n",
       "    .dataframe tbody tr th {\n",
       "        vertical-align: top;\n",
       "    }\n",
       "\n",
       "    .dataframe thead th {\n",
       "        text-align: right;\n",
       "    }\n",
       "</style>\n",
       "<table border=\"1\" class=\"dataframe\">\n",
       "  <thead>\n",
       "    <tr style=\"text-align: right;\">\n",
       "      <th></th>\n",
       "      <th>Unnamed: 0</th>\n",
       "      <th>Date</th>\n",
       "      <th>Team</th>\n",
       "      <th>Returned</th>\n",
       "      <th>Injured</th>\n",
       "      <th>Injury</th>\n",
       "      <th>Length</th>\n",
       "    </tr>\n",
       "  </thead>\n",
       "  <tbody>\n",
       "    <tr>\n",
       "      <td>0</td>\n",
       "      <td>0</td>\n",
       "      <td>1947-08-05</td>\n",
       "      <td>Bombers</td>\n",
       "      <td>NaN</td>\n",
       "      <td>Jack Underman</td>\n",
       "      <td>fractured legs</td>\n",
       "      <td>(in auto accident)</td>\n",
       "    </tr>\n",
       "    <tr>\n",
       "      <td>1</td>\n",
       "      <td>1</td>\n",
       "      <td>1948-02-15</td>\n",
       "      <td>Bullets</td>\n",
       "      <td>Buddy Jeannette</td>\n",
       "      <td>NaN</td>\n",
       "      <td>broken rib</td>\n",
       "      <td>(DTD)</td>\n",
       "    </tr>\n",
       "    <tr>\n",
       "      <td>2</td>\n",
       "      <td>2</td>\n",
       "      <td>1949-11-12</td>\n",
       "      <td>Capitols</td>\n",
       "      <td>NaN</td>\n",
       "      <td>Fred Scolari</td>\n",
       "      <td>fractured right cheekbone</td>\n",
       "      <td>(out indefinitely)</td>\n",
       "    </tr>\n",
       "    <tr>\n",
       "      <td>3</td>\n",
       "      <td>3</td>\n",
       "      <td>1949-12-23</td>\n",
       "      <td>Knicks</td>\n",
       "      <td>NaN</td>\n",
       "      <td>Vince Boryla</td>\n",
       "      <td>mumps</td>\n",
       "      <td>(out ~2 weeks)</td>\n",
       "    </tr>\n",
       "    <tr>\n",
       "      <td>4</td>\n",
       "      <td>4</td>\n",
       "      <td>1950-01-13</td>\n",
       "      <td>Knicks</td>\n",
       "      <td>Vince Boryla</td>\n",
       "      <td>NaN</td>\n",
       "      <td>returned to lineup</td>\n",
       "      <td>(date approximate)</td>\n",
       "    </tr>\n",
       "  </tbody>\n",
       "</table>\n",
       "</div>"
      ],
      "text/plain": [
       "   Unnamed: 0        Date      Team         Returned        Injured  \\\n",
       "0           0  1947-08-05   Bombers              NaN  Jack Underman   \n",
       "1           1  1948-02-15   Bullets  Buddy Jeannette            NaN   \n",
       "2           2  1949-11-12  Capitols              NaN   Fred Scolari   \n",
       "3           3  1949-12-23    Knicks              NaN   Vince Boryla   \n",
       "4           4  1950-01-13    Knicks     Vince Boryla            NaN   \n",
       "\n",
       "                      Injury              Length  \n",
       "0             fractured legs  (in auto accident)  \n",
       "1                 broken rib               (DTD)  \n",
       "2  fractured right cheekbone  (out indefinitely)  \n",
       "3                      mumps      (out ~2 weeks)  \n",
       "4         returned to lineup  (date approximate)  "
      ]
     },
     "execution_count": 3,
     "metadata": {},
     "output_type": "execute_result"
    }
   ],
   "source": [
    "data_file_pd.head()"
   ]
  },
  {
   "cell_type": "code",
   "execution_count": 4,
   "metadata": {},
   "outputs": [
    {
     "data": {
      "text/html": [
       "<div>\n",
       "<style scoped>\n",
       "    .dataframe tbody tr th:only-of-type {\n",
       "        vertical-align: middle;\n",
       "    }\n",
       "\n",
       "    .dataframe tbody tr th {\n",
       "        vertical-align: top;\n",
       "    }\n",
       "\n",
       "    .dataframe thead th {\n",
       "        text-align: right;\n",
       "    }\n",
       "</style>\n",
       "<table border=\"1\" class=\"dataframe\">\n",
       "  <thead>\n",
       "    <tr style=\"text-align: right;\">\n",
       "      <th></th>\n",
       "      <th>Unnamed: 0</th>\n",
       "    </tr>\n",
       "  </thead>\n",
       "  <tbody>\n",
       "    <tr>\n",
       "      <td>count</td>\n",
       "      <td>28099.000000</td>\n",
       "    </tr>\n",
       "    <tr>\n",
       "      <td>mean</td>\n",
       "      <td>14049.000000</td>\n",
       "    </tr>\n",
       "    <tr>\n",
       "      <td>std</td>\n",
       "      <td>8111.626943</td>\n",
       "    </tr>\n",
       "    <tr>\n",
       "      <td>min</td>\n",
       "      <td>0.000000</td>\n",
       "    </tr>\n",
       "    <tr>\n",
       "      <td>25%</td>\n",
       "      <td>7024.500000</td>\n",
       "    </tr>\n",
       "    <tr>\n",
       "      <td>50%</td>\n",
       "      <td>14049.000000</td>\n",
       "    </tr>\n",
       "    <tr>\n",
       "      <td>75%</td>\n",
       "      <td>21073.500000</td>\n",
       "    </tr>\n",
       "    <tr>\n",
       "      <td>max</td>\n",
       "      <td>28098.000000</td>\n",
       "    </tr>\n",
       "  </tbody>\n",
       "</table>\n",
       "</div>"
      ],
      "text/plain": [
       "         Unnamed: 0\n",
       "count  28099.000000\n",
       "mean   14049.000000\n",
       "std     8111.626943\n",
       "min        0.000000\n",
       "25%     7024.500000\n",
       "50%    14049.000000\n",
       "75%    21073.500000\n",
       "max    28098.000000"
      ]
     },
     "execution_count": 4,
     "metadata": {},
     "output_type": "execute_result"
    }
   ],
   "source": [
    "data_file_pd.describe()"
   ]
  },
  {
   "cell_type": "code",
   "execution_count": 5,
   "metadata": {},
   "outputs": [
    {
     "data": {
      "text/plain": [
       "0    1947-08-05\n",
       "1    1948-02-15\n",
       "2    1949-11-12\n",
       "3    1949-12-23\n",
       "4    1950-01-13\n",
       "Name: Date, dtype: object"
      ]
     },
     "execution_count": 5,
     "metadata": {},
     "output_type": "execute_result"
    }
   ],
   "source": [
    "data_file_pd[\"Date\"].head()\n"
   ]
  },
  {
   "cell_type": "code",
   "execution_count": 6,
   "metadata": {},
   "outputs": [
    {
     "data": {
      "text/plain": [
       "count          28099\n",
       "unique          5499\n",
       "top       2012-04-26\n",
       "freq              54\n",
       "Name: Date, dtype: object"
      ]
     },
     "execution_count": 6,
     "metadata": {},
     "output_type": "execute_result"
    }
   ],
   "source": [
    "data_file_pd[\"Date\"].describe()\n"
   ]
  },
  {
   "cell_type": "code",
   "execution_count": 7,
   "metadata": {},
   "outputs": [
    {
     "data": {
      "text/plain": [
       "array(['1947-08-05', '1948-02-15', '1949-11-12', ..., '2020-01-09',\n",
       "       '2020-01-10', '2020-01-11'], dtype=object)"
      ]
     },
     "execution_count": 7,
     "metadata": {},
     "output_type": "execute_result"
    }
   ],
   "source": [
    "data_file_pd[\"Date\"].unique()"
   ]
  },
  {
   "cell_type": "code",
   "execution_count": 8,
   "metadata": {},
   "outputs": [
    {
     "name": "stdout",
     "output_type": "stream",
     "text": [
      "       year month day\n",
      "0      1947    08  05\n",
      "1      1948    02  15\n",
      "2      1949    11  12\n",
      "3      1949    12  23\n",
      "4      1950    01  13\n",
      "...     ...   ...  ..\n",
      "28094  2020    01  11\n",
      "28095  2020    01  11\n",
      "28096  2020    01  11\n",
      "28097  2020    01  11\n",
      "28098  2020    01  11\n",
      "\n",
      "[28099 rows x 3 columns]\n"
     ]
    }
   ],
   "source": [
    "injury_dates = []\n",
    "for index, year in data_file_pd.iterrows(): \n",
    "    injury_dates.append(year[\"Date\"].split(\"-\"))\n",
    "df = pd.DataFrame(injury_dates, columns=[\"year\", \"month\", \"day\"])\n",
    "print(df)"
   ]
  },
  {
   "cell_type": "code",
   "execution_count": 9,
   "metadata": {},
   "outputs": [
    {
     "name": "stdout",
     "output_type": "stream",
     "text": [
      "2012    1686\n",
      "2014    1558\n",
      "2013    1433\n",
      "2002    1414\n",
      "2003    1379\n",
      "        ... \n",
      "1955       1\n",
      "1961       1\n",
      "1953       1\n",
      "1957       1\n",
      "1958       1\n",
      "Name: year, Length: 69, dtype: int64\n",
      "03    5317\n",
      "01    4802\n",
      "04    4717\n",
      "12    4199\n",
      "02    3759\n",
      "11    3407\n",
      "10     968\n",
      "05     481\n",
      "09     151\n",
      "06     108\n",
      "07     108\n",
      "08      82\n",
      "Name: month, dtype: int64\n"
     ]
    }
   ],
   "source": [
    "df = pd.DataFrame(df, columns=[\"year\", \"month\", \"day\"])\n",
    "print(df['year'].value_counts())\n",
    "print(df['month'].value_counts())"
   ]
  },
  {
   "cell_type": "code",
   "execution_count": 10,
   "metadata": {},
   "outputs": [
    {
     "name": "stdout",
     "output_type": "stream",
     "text": [
      "       year month day\n",
      "5602   2000    08  16\n",
      "5603   2000    09  01\n",
      "5604   2000    09  13\n",
      "5605   2000    09  20\n",
      "5606   2000    09  21\n",
      "...     ...   ...  ..\n",
      "28094  2020    01  11\n",
      "28095  2020    01  11\n",
      "28096  2020    01  11\n",
      "28097  2020    01  11\n",
      "28098  2020    01  11\n",
      "\n",
      "[22497 rows x 3 columns]\n"
     ]
    }
   ],
   "source": [
    "df = df.drop(df.index[0:5602])\n",
    "print(df)"
   ]
  },
  {
   "cell_type": "code",
   "execution_count": 11,
   "metadata": {},
   "outputs": [
    {
     "name": "stdout",
     "output_type": "stream",
     "text": [
      "['2000' '2001' '2002' '2003' '2004' '2005' '2006' '2007' '2008' '2009'\n",
      " '2010' '2011' '2012' '2013' '2014' '2015' '2016' '2017' '2018' '2019'\n",
      " '2020']\n",
      "[ 429 1335 1414 1379 1197 1218  879  853  911 1102  961  646 1686 1433\n",
      " 1558 1157 1348 1155  959  820   57]\n"
     ]
    },
    {
     "data": {
      "text/plain": [
       "([0, 1, 2, 3, 4, 5, 6, 7, 8, 9, 10, 11, 12, 13, 14, 15, 16, 17, 18, 19, 20],\n",
       " <a list of 21 Text xticklabel objects>)"
      ]
     },
     "execution_count": 11,
     "metadata": {},
     "output_type": "execute_result"
    },
    {
     "data": {
      "image/png": "[encoded data removed]",
      "text/plain": [
       "<Figure size 432x288 with 1 Axes>"
      ]
     },
     "metadata": {
      "needs_background": "light"
     },
     "output_type": "display_data"
    }
   ],
   "source": [
    "\n",
    "\n",
    "y_axis = df['year'].value_counts().sort_index()\n",
    "x_axis = df['year'].unique()\n",
    "\n",
    "print(x_axis)\n",
    "print(y_axis.values)\n",
    "plt.bar(x_axis, y_axis.values, color='r', alpha=0.5, align=\"center\")\n",
    "plt.xticks(rotation=\"90\")\n"
   ]
  },
  {
   "cell_type": "code",
   "execution_count": 12,
   "metadata": {},
   "outputs": [
    {
     "name": "stdout",
     "output_type": "stream",
     "text": [
      "year  month\n",
      "2000  08         1\n",
      "      09         9\n",
      "      10        24\n",
      "      11       169\n",
      "      12       226\n",
      "              ... \n",
      "2019  07         1\n",
      "      10        53\n",
      "      11       143\n",
      "      12       150\n",
      "2020  01        57\n",
      "Length: 227, dtype: int64\n"
     ]
    }
   ],
   "source": [
    "df_1 = pd.DataFrame(df, columns= ['year', 'month'])\n",
    "df_1.groupby(['year', 'month']).size()\n",
    "dfym = df_1.groupby(['year', 'month']).size()\n",
    "print(dfym)"
   ]
  },
  {
   "cell_type": "code",
   "execution_count": 13,
   "metadata": {},
   "outputs": [],
   "source": [
    "#dfym.values\n",
    "dfym.index.values; \n",
    "years = map(lambda x: x[0], dfym.index.values)\n",
    "months = map(lambda x: x[1], dfym.index.values)\n",
    "years = list(years)\n",
    "months = list(months)\n"
   ]
  },
  {
   "cell_type": "code",
   "execution_count": 14,
   "metadata": {},
   "outputs": [
    {
     "data": {
      "text/html": [
       "<div>\n",
       "<style scoped>\n",
       "    .dataframe tbody tr th:only-of-type {\n",
       "        vertical-align: middle;\n",
       "    }\n",
       "\n",
       "    .dataframe tbody tr th {\n",
       "        vertical-align: top;\n",
       "    }\n",
       "\n",
       "    .dataframe thead th {\n",
       "        text-align: right;\n",
       "    }\n",
       "</style>\n",
       "<table border=\"1\" class=\"dataframe\">\n",
       "  <thead>\n",
       "    <tr style=\"text-align: right;\">\n",
       "      <th>months</th>\n",
       "      <th>01</th>\n",
       "      <th>02</th>\n",
       "      <th>03</th>\n",
       "      <th>04</th>\n",
       "      <th>05</th>\n",
       "      <th>06</th>\n",
       "      <th>07</th>\n",
       "      <th>08</th>\n",
       "      <th>09</th>\n",
       "      <th>10</th>\n",
       "      <th>11</th>\n",
       "      <th>12</th>\n",
       "    </tr>\n",
       "    <tr>\n",
       "      <th>years</th>\n",
       "      <th></th>\n",
       "      <th></th>\n",
       "      <th></th>\n",
       "      <th></th>\n",
       "      <th></th>\n",
       "      <th></th>\n",
       "      <th></th>\n",
       "      <th></th>\n",
       "      <th></th>\n",
       "      <th></th>\n",
       "      <th></th>\n",
       "      <th></th>\n",
       "    </tr>\n",
       "  </thead>\n",
       "  <tbody>\n",
       "    <tr>\n",
       "      <td>2000</td>\n",
       "      <td>NaN</td>\n",
       "      <td>NaN</td>\n",
       "      <td>NaN</td>\n",
       "      <td>NaN</td>\n",
       "      <td>NaN</td>\n",
       "      <td>NaN</td>\n",
       "      <td>NaN</td>\n",
       "      <td>1.0</td>\n",
       "      <td>9.0</td>\n",
       "      <td>24.0</td>\n",
       "      <td>169.0</td>\n",
       "      <td>226.0</td>\n",
       "    </tr>\n",
       "    <tr>\n",
       "      <td>2001</td>\n",
       "      <td>251.0</td>\n",
       "      <td>172.0</td>\n",
       "      <td>257.0</td>\n",
       "      <td>199.0</td>\n",
       "      <td>49.0</td>\n",
       "      <td>9.0</td>\n",
       "      <td>5.0</td>\n",
       "      <td>4.0</td>\n",
       "      <td>7.0</td>\n",
       "      <td>26.0</td>\n",
       "      <td>154.0</td>\n",
       "      <td>202.0</td>\n",
       "    </tr>\n",
       "    <tr>\n",
       "      <td>2002</td>\n",
       "      <td>186.0</td>\n",
       "      <td>204.0</td>\n",
       "      <td>218.0</td>\n",
       "      <td>165.0</td>\n",
       "      <td>56.0</td>\n",
       "      <td>7.0</td>\n",
       "      <td>6.0</td>\n",
       "      <td>8.0</td>\n",
       "      <td>11.0</td>\n",
       "      <td>43.0</td>\n",
       "      <td>268.0</td>\n",
       "      <td>242.0</td>\n",
       "    </tr>\n",
       "    <tr>\n",
       "      <td>2003</td>\n",
       "      <td>274.0</td>\n",
       "      <td>166.0</td>\n",
       "      <td>212.0</td>\n",
       "      <td>201.0</td>\n",
       "      <td>50.0</td>\n",
       "      <td>8.0</td>\n",
       "      <td>2.0</td>\n",
       "      <td>2.0</td>\n",
       "      <td>3.0</td>\n",
       "      <td>42.0</td>\n",
       "      <td>201.0</td>\n",
       "      <td>218.0</td>\n",
       "    </tr>\n",
       "    <tr>\n",
       "      <td>2004</td>\n",
       "      <td>242.0</td>\n",
       "      <td>162.0</td>\n",
       "      <td>260.0</td>\n",
       "      <td>170.0</td>\n",
       "      <td>15.0</td>\n",
       "      <td>4.0</td>\n",
       "      <td>7.0</td>\n",
       "      <td>2.0</td>\n",
       "      <td>5.0</td>\n",
       "      <td>7.0</td>\n",
       "      <td>157.0</td>\n",
       "      <td>166.0</td>\n",
       "    </tr>\n",
       "    <tr>\n",
       "      <td>2005</td>\n",
       "      <td>267.0</td>\n",
       "      <td>204.0</td>\n",
       "      <td>271.0</td>\n",
       "      <td>274.0</td>\n",
       "      <td>3.0</td>\n",
       "      <td>4.0</td>\n",
       "      <td>6.0</td>\n",
       "      <td>5.0</td>\n",
       "      <td>7.0</td>\n",
       "      <td>29.0</td>\n",
       "      <td>59.0</td>\n",
       "      <td>89.0</td>\n",
       "    </tr>\n",
       "    <tr>\n",
       "      <td>2006</td>\n",
       "      <td>168.0</td>\n",
       "      <td>123.0</td>\n",
       "      <td>156.0</td>\n",
       "      <td>205.0</td>\n",
       "      <td>21.0</td>\n",
       "      <td>1.0</td>\n",
       "      <td>5.0</td>\n",
       "      <td>4.0</td>\n",
       "      <td>4.0</td>\n",
       "      <td>20.0</td>\n",
       "      <td>69.0</td>\n",
       "      <td>103.0</td>\n",
       "    </tr>\n",
       "    <tr>\n",
       "      <td>2007</td>\n",
       "      <td>114.0</td>\n",
       "      <td>87.0</td>\n",
       "      <td>130.0</td>\n",
       "      <td>201.0</td>\n",
       "      <td>5.0</td>\n",
       "      <td>4.0</td>\n",
       "      <td>4.0</td>\n",
       "      <td>4.0</td>\n",
       "      <td>6.0</td>\n",
       "      <td>24.0</td>\n",
       "      <td>96.0</td>\n",
       "      <td>178.0</td>\n",
       "    </tr>\n",
       "    <tr>\n",
       "      <td>2008</td>\n",
       "      <td>165.0</td>\n",
       "      <td>142.0</td>\n",
       "      <td>186.0</td>\n",
       "      <td>148.0</td>\n",
       "      <td>10.0</td>\n",
       "      <td>3.0</td>\n",
       "      <td>4.0</td>\n",
       "      <td>3.0</td>\n",
       "      <td>10.0</td>\n",
       "      <td>30.0</td>\n",
       "      <td>91.0</td>\n",
       "      <td>119.0</td>\n",
       "    </tr>\n",
       "    <tr>\n",
       "      <td>2009</td>\n",
       "      <td>161.0</td>\n",
       "      <td>130.0</td>\n",
       "      <td>196.0</td>\n",
       "      <td>145.0</td>\n",
       "      <td>21.0</td>\n",
       "      <td>6.0</td>\n",
       "      <td>5.0</td>\n",
       "      <td>1.0</td>\n",
       "      <td>6.0</td>\n",
       "      <td>37.0</td>\n",
       "      <td>221.0</td>\n",
       "      <td>173.0</td>\n",
       "    </tr>\n",
       "    <tr>\n",
       "      <td>2010</td>\n",
       "      <td>134.0</td>\n",
       "      <td>129.0</td>\n",
       "      <td>262.0</td>\n",
       "      <td>173.0</td>\n",
       "      <td>8.0</td>\n",
       "      <td>2.0</td>\n",
       "      <td>6.0</td>\n",
       "      <td>3.0</td>\n",
       "      <td>6.0</td>\n",
       "      <td>25.0</td>\n",
       "      <td>88.0</td>\n",
       "      <td>125.0</td>\n",
       "    </tr>\n",
       "    <tr>\n",
       "      <td>2011</td>\n",
       "      <td>146.0</td>\n",
       "      <td>118.0</td>\n",
       "      <td>146.0</td>\n",
       "      <td>181.0</td>\n",
       "      <td>5.0</td>\n",
       "      <td>4.0</td>\n",
       "      <td>NaN</td>\n",
       "      <td>NaN</td>\n",
       "      <td>1.0</td>\n",
       "      <td>1.0</td>\n",
       "      <td>NaN</td>\n",
       "      <td>44.0</td>\n",
       "    </tr>\n",
       "    <tr>\n",
       "      <td>2012</td>\n",
       "      <td>312.0</td>\n",
       "      <td>240.0</td>\n",
       "      <td>327.0</td>\n",
       "      <td>414.0</td>\n",
       "      <td>15.0</td>\n",
       "      <td>3.0</td>\n",
       "      <td>9.0</td>\n",
       "      <td>2.0</td>\n",
       "      <td>7.0</td>\n",
       "      <td>20.0</td>\n",
       "      <td>126.0</td>\n",
       "      <td>211.0</td>\n",
       "    </tr>\n",
       "    <tr>\n",
       "      <td>2013</td>\n",
       "      <td>211.0</td>\n",
       "      <td>171.0</td>\n",
       "      <td>244.0</td>\n",
       "      <td>229.0</td>\n",
       "      <td>11.0</td>\n",
       "      <td>3.0</td>\n",
       "      <td>4.0</td>\n",
       "      <td>1.0</td>\n",
       "      <td>6.0</td>\n",
       "      <td>40.0</td>\n",
       "      <td>235.0</td>\n",
       "      <td>278.0</td>\n",
       "    </tr>\n",
       "    <tr>\n",
       "      <td>2014</td>\n",
       "      <td>300.0</td>\n",
       "      <td>258.0</td>\n",
       "      <td>316.0</td>\n",
       "      <td>337.0</td>\n",
       "      <td>14.0</td>\n",
       "      <td>1.0</td>\n",
       "      <td>5.0</td>\n",
       "      <td>4.0</td>\n",
       "      <td>4.0</td>\n",
       "      <td>32.0</td>\n",
       "      <td>124.0</td>\n",
       "      <td>163.0</td>\n",
       "    </tr>\n",
       "    <tr>\n",
       "      <td>2015</td>\n",
       "      <td>175.0</td>\n",
       "      <td>141.0</td>\n",
       "      <td>248.0</td>\n",
       "      <td>177.0</td>\n",
       "      <td>14.0</td>\n",
       "      <td>7.0</td>\n",
       "      <td>5.0</td>\n",
       "      <td>3.0</td>\n",
       "      <td>8.0</td>\n",
       "      <td>43.0</td>\n",
       "      <td>171.0</td>\n",
       "      <td>165.0</td>\n",
       "    </tr>\n",
       "    <tr>\n",
       "      <td>2016</td>\n",
       "      <td>250.0</td>\n",
       "      <td>143.0</td>\n",
       "      <td>264.0</td>\n",
       "      <td>185.0</td>\n",
       "      <td>9.0</td>\n",
       "      <td>5.0</td>\n",
       "      <td>4.0</td>\n",
       "      <td>2.0</td>\n",
       "      <td>6.0</td>\n",
       "      <td>94.0</td>\n",
       "      <td>180.0</td>\n",
       "      <td>206.0</td>\n",
       "    </tr>\n",
       "    <tr>\n",
       "      <td>2017</td>\n",
       "      <td>233.0</td>\n",
       "      <td>135.0</td>\n",
       "      <td>212.0</td>\n",
       "      <td>170.0</td>\n",
       "      <td>20.0</td>\n",
       "      <td>1.0</td>\n",
       "      <td>3.0</td>\n",
       "      <td>3.0</td>\n",
       "      <td>9.0</td>\n",
       "      <td>71.0</td>\n",
       "      <td>117.0</td>\n",
       "      <td>181.0</td>\n",
       "    </tr>\n",
       "    <tr>\n",
       "      <td>2018</td>\n",
       "      <td>164.0</td>\n",
       "      <td>107.0</td>\n",
       "      <td>190.0</td>\n",
       "      <td>92.0</td>\n",
       "      <td>8.0</td>\n",
       "      <td>1.0</td>\n",
       "      <td>NaN</td>\n",
       "      <td>NaN</td>\n",
       "      <td>1.0</td>\n",
       "      <td>90.0</td>\n",
       "      <td>130.0</td>\n",
       "      <td>176.0</td>\n",
       "    </tr>\n",
       "    <tr>\n",
       "      <td>2019</td>\n",
       "      <td>147.0</td>\n",
       "      <td>97.0</td>\n",
       "      <td>137.0</td>\n",
       "      <td>78.0</td>\n",
       "      <td>9.0</td>\n",
       "      <td>5.0</td>\n",
       "      <td>1.0</td>\n",
       "      <td>NaN</td>\n",
       "      <td>NaN</td>\n",
       "      <td>53.0</td>\n",
       "      <td>143.0</td>\n",
       "      <td>150.0</td>\n",
       "    </tr>\n",
       "    <tr>\n",
       "      <td>2020</td>\n",
       "      <td>57.0</td>\n",
       "      <td>NaN</td>\n",
       "      <td>NaN</td>\n",
       "      <td>NaN</td>\n",
       "      <td>NaN</td>\n",
       "      <td>NaN</td>\n",
       "      <td>NaN</td>\n",
       "      <td>NaN</td>\n",
       "      <td>NaN</td>\n",
       "      <td>NaN</td>\n",
       "      <td>NaN</td>\n",
       "      <td>NaN</td>\n",
       "    </tr>\n",
       "  </tbody>\n",
       "</table>\n",
       "</div>"
      ],
      "text/plain": [
       "months     01     02     03     04    05   06   07   08    09    10     11  \\\n",
       "years                                                                        \n",
       "2000      NaN    NaN    NaN    NaN   NaN  NaN  NaN  1.0   9.0  24.0  169.0   \n",
       "2001    251.0  172.0  257.0  199.0  49.0  9.0  5.0  4.0   7.0  26.0  154.0   \n",
       "2002    186.0  204.0  218.0  165.0  56.0  7.0  6.0  8.0  11.0  43.0  268.0   \n",
       "2003    274.0  166.0  212.0  201.0  50.0  8.0  2.0  2.0   3.0  42.0  201.0   \n",
       "2004    242.0  162.0  260.0  170.0  15.0  4.0  7.0  2.0   5.0   7.0  157.0   \n",
       "2005    267.0  204.0  271.0  274.0   3.0  4.0  6.0  5.0   7.0  29.0   59.0   \n",
       "2006    168.0  123.0  156.0  205.0  21.0  1.0  5.0  4.0   4.0  20.0   69.0   \n",
       "2007    114.0   87.0  130.0  201.0   5.0  4.0  4.0  4.0   6.0  24.0   96.0   \n",
       "2008    165.0  142.0  186.0  148.0  10.0  3.0  4.0  3.0  10.0  30.0   91.0   \n",
       "2009    161.0  130.0  196.0  145.0  21.0  6.0  5.0  1.0   6.0  37.0  221.0   \n",
       "2010    134.0  129.0  262.0  173.0   8.0  2.0  6.0  3.0   6.0  25.0   88.0   \n",
       "2011    146.0  118.0  146.0  181.0   5.0  4.0  NaN  NaN   1.0   1.0    NaN   \n",
       "2012    312.0  240.0  327.0  414.0  15.0  3.0  9.0  2.0   7.0  20.0  126.0   \n",
       "2013    211.0  171.0  244.0  229.0  11.0  3.0  4.0  1.0   6.0  40.0  235.0   \n",
       "2014    300.0  258.0  316.0  337.0  14.0  1.0  5.0  4.0   4.0  32.0  124.0   \n",
       "2015    175.0  141.0  248.0  177.0  14.0  7.0  5.0  3.0   8.0  43.0  171.0   \n",
       "2016    250.0  143.0  264.0  185.0   9.0  5.0  4.0  2.0   6.0  94.0  180.0   \n",
       "2017    233.0  135.0  212.0  170.0  20.0  1.0  3.0  3.0   9.0  71.0  117.0   \n",
       "2018    164.0  107.0  190.0   92.0   8.0  1.0  NaN  NaN   1.0  90.0  130.0   \n",
       "2019    147.0   97.0  137.0   78.0   9.0  5.0  1.0  NaN   NaN  53.0  143.0   \n",
       "2020     57.0    NaN    NaN    NaN   NaN  NaN  NaN  NaN   NaN   NaN    NaN   \n",
       "\n",
       "months     12  \n",
       "years          \n",
       "2000    226.0  \n",
       "2001    202.0  \n",
       "2002    242.0  \n",
       "2003    218.0  \n",
       "2004    166.0  \n",
       "2005     89.0  \n",
       "2006    103.0  \n",
       "2007    178.0  \n",
       "2008    119.0  \n",
       "2009    173.0  \n",
       "2010    125.0  \n",
       "2011     44.0  \n",
       "2012    211.0  \n",
       "2013    278.0  \n",
       "2014    163.0  \n",
       "2015    165.0  \n",
       "2016    206.0  \n",
       "2017    181.0  \n",
       "2018    176.0  \n",
       "2019    150.0  \n",
       "2020      NaN  "
      ]
     },
     "execution_count": 14,
     "metadata": {},
     "output_type": "execute_result"
    }
   ],
   "source": [
    "injdf = pd.DataFrame({\"years\":years, \"months\":months,\"injuries\":dfym.values})\n",
    "injdf.head()\n",
    "pivot = injdf.pivot(index=\"years\", columns=\"months\", values=\"injuries\")\n",
    "pivot\n"
   ]
  },
  {
   "cell_type": "code",
   "execution_count": 15,
   "metadata": {},
   "outputs": [
    {
     "name": "stdout",
     "output_type": "stream",
     "text": [
      "year  month\n",
      "2000  08         1\n",
      "      09         9\n",
      "      10        24\n",
      "      11       169\n",
      "      12       226\n",
      "              ... \n",
      "2019  07         1\n",
      "      10        53\n",
      "      11       143\n",
      "      12       150\n",
      "2020  01        57\n",
      "Length: 227, dtype: int64\n"
     ]
    }
   ],
   "source": [
    "\n",
    "print(dfym)"
   ]
  },
  {
   "cell_type": "code",
   "execution_count": 16,
   "metadata": {},
   "outputs": [
    {
     "data": {
      "text/plain": [
       "<seaborn.axisgrid.FacetGrid at 0x14feba54988>"
      ]
     },
     "execution_count": 16,
     "metadata": {},
     "output_type": "execute_result"
    },
    {
     "data": {
      "text/plain": [
       "<Figure size 7200x7200 with 0 Axes>"
      ]
     },
     "metadata": {},
     "output_type": "display_data"
    },
    {
     "data": {
      "image/png": "[encoded data removed]",
      "text/plain": [
       "<Figure size 4656.75x576 with 1 Axes>"
      ]
     },
     "metadata": {
      "needs_background": "light"
     },
     "output_type": "display_data"
    }
   ],
   "source": [
    "plt.figure(figsize=(100, 100))\n",
    "\n",
    "\n",
    "g = sns.catplot(data=injdf, x=\"years\", y=\"injuries\", hue=\"months\", kind=\"bar\", aspect=8, height=8, palette=\"bright\")\n",
    "\n",
    "g.despine(left=True)\n",
    "\n"
   ]
  },
  {
   "cell_type": "code",
   "execution_count": 17,
   "metadata": {},
   "outputs": [
    {
     "data": {
      "text/plain": [
       "<seaborn.axisgrid.FacetGrid at 0x14fec96ef88>"
      ]
     },
     "execution_count": 17,
     "metadata": {},
     "output_type": "execute_result"
    },
    {
     "data": {
      "text/plain": [
       "<Figure size 7200x7200 with 0 Axes>"
      ]
     },
     "metadata": {},
     "output_type": "display_data"
    },
    {
     "data": {
      "image/png": "[encoded data removed]",
      "text/plain": [
       "<Figure size 4669.38x576 with 1 Axes>"
      ]
     },
     "metadata": {
      "needs_background": "light"
     },
     "output_type": "display_data"
    }
   ],
   "source": [
    "plt.figure(figsize=(100, 100))\n",
    "\n",
    "\n",
    "g = sns.catplot(data=injdf, x=\"months\", y=\"injuries\", hue= \"years\", kind=\"bar\", aspect=8, height=8, palette=\"bright\")\n",
    "\n",
    "g.despine(left=True)\n"
   ]
  },
  {
   "cell_type": "code",
   "execution_count": 18,
   "metadata": {},
   "outputs": [
    {
     "data": {
      "text/plain": [
       "<seaborn.axisgrid.FacetGrid at 0x14febfc3448>"
      ]
     },
     "execution_count": 18,
     "metadata": {},
     "output_type": "execute_result"
    },
    {
     "data": {
      "text/plain": [
       "<Figure size 7200x7200 with 0 Axes>"
      ]
     },
     "metadata": {},
     "output_type": "display_data"
    },
    {
     "data": {
      "image/png": "[encoded data removed]",
      "text/plain": [
       "<Figure size 4608x576 with 1 Axes>"
      ]
     },
     "metadata": {
      "needs_background": "light"
     },
     "output_type": "display_data"
    }
   ],
   "source": [
    "plt.figure(figsize=(100, 100))\n",
    "\n",
    "\n",
    "g = sns.catplot(data=injdf, x=\"months\", y=\"injuries\", kind=\"bar\", aspect=8, height=8, palette=\"bright\")\n",
    "\n",
    "g.despine(left=True)"
   ]
  },
  {
   "cell_type": "code",
   "execution_count": null,
   "metadata": {},
   "outputs": [],
   "source": []
  }
 ],
 "metadata": {
  "kernelspec": {
   "display_name": "Python 3",
   "language": "python",
   "name": "python3"
  },
  "language_info": {
   "codemirror_mode": {
    "name": "ipython",
    "version": 3
   },
   "file_extension": ".py",
   "mimetype": "text/x-python",
   "name": "python",
   "nbconvert_exporter": "python",
   "pygments_lexer": "ipython3",
   "version": "3.7.4"
  }
 },
 "nbformat": 4,
 "nbformat_minor": 2
}
